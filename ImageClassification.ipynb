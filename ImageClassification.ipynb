{
  "nbformat": 4,
  "nbformat_minor": 0,
  "metadata": {
    "colab": {
      "provenance": [],
      "authorship_tag": "ABX9TyMtU6yyDo8pe2OJi73jQMcL",
      "include_colab_link": true
    },
    "kernelspec": {
      "name": "python3",
      "display_name": "Python 3"
    },
    "language_info": {
      "name": "python"
    }
  },
  "cells": [
    {
      "cell_type": "markdown",
      "metadata": {
        "id": "view-in-github",
        "colab_type": "text"
      },
      "source": [
        "<a href=\"https://colab.research.google.com/github/shivam15668/FlickMatch_CNN_ImageClassifier/blob/main/ImageClassification.ipynb\" target=\"_parent\"><img src=\"https://colab.research.google.com/assets/colab-badge.svg\" alt=\"Open In Colab\"/></a>"
      ]
    },
    {
      "cell_type": "code",
      "execution_count": 2,
      "metadata": {
        "id": "E29r_QAn1wD1"
      },
      "outputs": [],
      "source": [
        "import tensorflow as tf \n",
        "from tensorflow.keras import datasets, layers , models \n",
        "import matplotlib.pyplot as plt\n",
        "import numpy as np\n"
      ]
    },
    {
      "cell_type": "code",
      "source": [
        "(X_train , Y_train) , (X_test  , Y_test) = datasets.cifar10.load_data()\n",
        "X_train.shape"
      ],
      "metadata": {
        "colab": {
          "base_uri": "https://localhost:8080/"
        },
        "id": "PDWNh_Wd3RCQ",
        "outputId": "5b56bbc7-8028-4c84-b37f-94b030425a98"
      },
      "execution_count": 3,
      "outputs": [
        {
          "output_type": "execute_result",
          "data": {
            "text/plain": [
              "(50000, 32, 32, 3)"
            ]
          },
          "metadata": {},
          "execution_count": 3
        }
      ]
    },
    {
      "cell_type": "code",
      "source": [
        "X_test.shape"
      ],
      "metadata": {
        "colab": {
          "base_uri": "https://localhost:8080/"
        },
        "id": "mYliu8QR3l_v",
        "outputId": "0639bfe3-b97c-4160-f2cc-dde734d7f0cb"
      },
      "execution_count": 4,
      "outputs": [
        {
          "output_type": "execute_result",
          "data": {
            "text/plain": [
              "(10000, 32, 32, 3)"
            ]
          },
          "metadata": {},
          "execution_count": 4
        }
      ]
    },
    {
      "cell_type": "code",
      "source": [
        "Y_train[:5]"
      ],
      "metadata": {
        "colab": {
          "base_uri": "https://localhost:8080/"
        },
        "id": "xx0rROfN5arq",
        "outputId": "d860b406-03e1-4672-fc90-9d70355608b9"
      },
      "execution_count": 5,
      "outputs": [
        {
          "output_type": "execute_result",
          "data": {
            "text/plain": [
              "array([[6],\n",
              "       [9],\n",
              "       [9],\n",
              "       [4],\n",
              "       [1]], dtype=uint8)"
            ]
          },
          "metadata": {},
          "execution_count": 5
        }
      ]
    },
    {
      "cell_type": "code",
      "source": [
        "Y_train = Y_train.reshape(-1,)# to flatten and reshape model\n",
        "Y_train[:5]"
      ],
      "metadata": {
        "colab": {
          "base_uri": "https://localhost:8080/"
        },
        "id": "nEHdL-6N5hI7",
        "outputId": "38652a6d-6df6-48f3-a9bd-b3e25a31ea9e"
      },
      "execution_count": 6,
      "outputs": [
        {
          "output_type": "execute_result",
          "data": {
            "text/plain": [
              "array([6, 9, 9, 4, 1], dtype=uint8)"
            ]
          },
          "metadata": {},
          "execution_count": 6
        }
      ]
    },
    {
      "cell_type": "markdown",
      "source": [],
      "metadata": {
        "id": "3UX7wCUS5Zsv"
      }
    },
    {
      "cell_type": "code",
      "source": [
        "classes = [\"airplane\" ,\"automobile\" , \"bird\" , \"cat\" ,  \"deer\" ,\"dog\" , \"frog\" , \"horse\" , \"ship\" , \"truck\" ]"
      ],
      "metadata": {
        "id": "CIUWKa-94Pq3"
      },
      "execution_count": 7,
      "outputs": []
    },
    {
      "cell_type": "code",
      "source": [
        "def plot_sample(x,y,index):\n",
        "  plt.figure(figsize = (15,2))\n",
        "  plt.imshow(x[index])\n",
        "  plt.xlabel(classes[y[index]])"
      ],
      "metadata": {
        "id": "ucnUfe4E3prC"
      },
      "execution_count": 8,
      "outputs": []
    },
    {
      "cell_type": "code",
      "source": [
        "plot_sample(X_train , Y_train , 0)"
      ],
      "metadata": {
        "colab": {
          "base_uri": "https://localhost:8080/",
          "height": 237
        },
        "id": "yJIkA1Je56SX",
        "outputId": "164639e9-df4b-4494-de62-0db0e9edad5d"
      },
      "execution_count": 9,
      "outputs": [
        {
          "output_type": "display_data",
          "data": {
            "text/plain": [
              "<Figure size 1500x200 with 1 Axes>"
            ],
            "image/png": "[encoded data removed]"
          },
          "metadata": {}
        }
      ]
    },
    {
      "cell_type": "code",
      "source": [
        "#Normalizing data \n",
        "X_train = X_train/255\n",
        "X_test = X_test/255"
      ],
      "metadata": {
        "id": "3u6l6Pc47Guq"
      },
      "execution_count": 10,
      "outputs": []
    },
    {
      "cell_type": "code",
      "source": [
        "ann = models.Sequential([\n",
        "    layers.Flatten(input_shape = (32,32,3)),\n",
        "    layers.Dense(3000 , activation = \"relu\"),\n",
        "    layers.Dense(1000 , activation = \"relu\"),\n",
        "    layers.Dense(10 , activation = \"sigmoid\")#for 10 categories \n",
        "])\n",
        "ann.compile(optimizer = 'SGD',\n",
        "              loss = 'sparse_categorical_crossentropy',\n",
        "              metrics = ['accuracy'])\n",
        "ann.fit(X_train , Y_train , epochs = 1 , verbose = 1 )"
      ],
      "metadata": {
        "colab": {
          "base_uri": "https://localhost:8080/"
        },
        "id": "54WWu4n17bg5",
        "outputId": "cfeac35a-f0c7-44e0-9492-d1b198545010"
      },
      "execution_count": 14,
      "outputs": [
        {
          "output_type": "stream",
          "name": "stdout",
          "text": [
            "1563/1563 [==============================] - 136s 86ms/step - loss: 1.8127 - accuracy: 0.3523\n"
          ]
        },
        {
          "output_type": "execute_result",
          "data": {
            "text/plain": [
              "<keras.callbacks.History at 0x7fcfb4555ba0>"
            ]
          },
          "metadata": {},
          "execution_count": 14
        }
      ]
    },
    {
      "cell_type": "code",
      "source": [
        "ann.evaluate(X_test , Y_test)"
      ],
      "metadata": {
        "colab": {
          "base_uri": "https://localhost:8080/"
        },
        "id": "gB3B5dJDF5ff",
        "outputId": "7bc6c60a-8578-422d-8366-5b0ccc2a393f"
      },
      "execution_count": 15,
      "outputs": [
        {
          "output_type": "stream",
          "name": "stdout",
          "text": [
            "313/313 [==============================] - 9s 29ms/step - loss: 1.7212 - accuracy: 0.3821\n"
          ]
        },
        {
          "output_type": "execute_result",
          "data": {
            "text/plain": [
              "[1.72115159034729, 0.382099986076355]"
            ]
          },
          "metadata": {},
          "execution_count": 15
        }
      ]
    },
    {
      "cell_type": "code",
      "source": [
        "from sklearn.metrics import confusion_matrix , classification_report\n",
        "import numpy as np\n",
        "y_pred = ann.predict(X_test)\n",
        "y_pred_classes = [np.argmax(element) for element in y_pred]\n",
        "print(\"classification Report \\n\" , classification_report(Y_test , y_pred_classes))"
      ],
      "metadata": {
        "colab": {
          "base_uri": "https://localhost:8080/"
        },
        "id": "t4yZw6PiGAyQ",
        "outputId": "6cdb69fd-6f42-4f85-9ece-6785f5e89ac0"
      },
      "execution_count": 16,
      "outputs": [
        {
          "output_type": "stream",
          "name": "stdout",
          "text": [
            "313/313 [==============================] - 9s 29ms/step\n",
            "classification Report \n",
            "               precision    recall  f1-score   support\n",
            "\n",
            "           0       0.61      0.32      0.42      1000\n",
            "           1       0.64      0.25      0.36      1000\n",
            "           2       0.31      0.15      0.20      1000\n",
            "           3       0.24      0.63      0.35      1000\n",
            "           4       0.28      0.55      0.37      1000\n",
            "           5       0.51      0.15      0.23      1000\n",
            "           6       0.49      0.33      0.40      1000\n",
            "           7       0.52      0.35      0.42      1000\n",
            "           8       0.42      0.70      0.52      1000\n",
            "           9       0.55      0.40      0.46      1000\n",
            "\n",
            "    accuracy                           0.38     10000\n",
            "   macro avg       0.46      0.38      0.37     10000\n",
            "weighted avg       0.46      0.38      0.37     10000\n",
            "\n"
          ]
        }
      ]
    },
    {
      "cell_type": "code",
      "source": [
        "# above code to show limitation of ANN \n",
        "# Now , to use CNN \n",
        "\n",
        "# convolution+ReLU + pooling + convolution+ReLU + pooling .... \n",
        "# + flatten ( dense head for 10 classes )\n",
        "cnn =  models.Sequential([\n",
        "    #cnn \n",
        "    \n",
        "    layers.Conv2D(filters = 32 ,activation = 'relu' ,  kernel_size = (3,3) , input_shape = (32,32,3)),\n",
        "    layers.MaxPooling2D(2,2),\n",
        "    layers.Conv2D(filters = 64 ,activation = 'relu' ,  kernel_size = (3,3) , input_shape = (32,32,3)),\n",
        "    layers.MaxPooling2D(2,2), \n",
        "    #dense\n",
        "    layers.Flatten(),\n",
        "    layers.Dense(64 , activation = \"relu\"),\n",
        "    layers.Dense(10 , activation = \"softmax\")#for 10 categories \n",
        "])"
      ],
      "metadata": {
        "id": "zRjUAr_oICJr"
      },
      "execution_count": 19,
      "outputs": []
    },
    {
      "cell_type": "code",
      "source": [
        "cnn.compile(optimizer = 'adam' , \n",
        "              loss = 'sparse_categorical_crossentropy' , \n",
        "              metrics = [\"accuracy\"])"
      ],
      "metadata": {
        "id": "-Z8Ccc_uKDzG"
      },
      "execution_count": 21,
      "outputs": []
    },
    {
      "cell_type": "code",
      "source": [
        "cnn.fit(X_train , Y_train , epochs = 1 ) # do check for high epochs , as i did it already "
      ],
      "metadata": {
        "colab": {
          "base_uri": "https://localhost:8080/"
        },
        "id": "O3TXmZ63Kdht",
        "outputId": "7f2462d1-bb3e-4c67-c4fc-0cfdcf44da91"
      },
      "execution_count": 23,
      "outputs": [
        {
          "output_type": "stream",
          "name": "stdout",
          "text": [
            "1563/1563 [==============================] - 75s 48ms/step - loss: 0.5496 - accuracy: 0.8064\n"
          ]
        },
        {
          "output_type": "execute_result",
          "data": {
            "text/plain": [
              "<keras.callbacks.History at 0x7fcf8e95b580>"
            ]
          },
          "metadata": {},
          "execution_count": 23
        }
      ]
    },
    {
      "cell_type": "code",
      "source": [
        "cnn.evaluate(X_test , Y_test)"
      ],
      "metadata": {
        "colab": {
          "base_uri": "https://localhost:8080/"
        },
        "id": "29AmhNIhKnm8",
        "outputId": "6c07b5ab-60b3-413e-ad10-408c6bd2f7b2"
      },
      "execution_count": 24,
      "outputs": [
        {
          "output_type": "stream",
          "name": "stdout",
          "text": [
            "313/313 [==============================] - 4s 12ms/step - loss: 0.9181 - accuracy: 0.7037\n"
          ]
        },
        {
          "output_type": "execute_result",
          "data": {
            "text/plain": [
              "[0.9181422591209412, 0.7037000060081482]"
            ]
          },
          "metadata": {},
          "execution_count": 24
        }
      ]
    },
    {
      "cell_type": "code",
      "source": [
        "Y_test = Y_test.reshape(-1 ,)\n",
        "Y_test[:5]"
      ],
      "metadata": {
        "colab": {
          "base_uri": "https://localhost:8080/"
        },
        "id": "K0QwvSiYN155",
        "outputId": "754dedac-bd09-4e58-8e6a-af70e8fcc6c3"
      },
      "execution_count": 25,
      "outputs": [
        {
          "output_type": "execute_result",
          "data": {
            "text/plain": [
              "array([3, 8, 8, 0, 6], dtype=uint8)"
            ]
          },
          "metadata": {},
          "execution_count": 25
        }
      ]
    },
    {
      "cell_type": "code",
      "source": [
        "plot_sample(X_test , Y_test , 1)"
      ],
      "metadata": {
        "colab": {
          "base_uri": "https://localhost:8080/",
          "height": 237
        },
        "id": "aO9-RORSOChO",
        "outputId": "6e8273bb-0a48-47a6-aa7f-f6f0296d3f18"
      },
      "execution_count": 26,
      "outputs": [
        {
          "output_type": "display_data",
          "data": {
            "text/plain": [
              "<Figure size 1500x200 with 1 Axes>"
            ],
            "image/png": "[encoded data removed]"
          },
          "metadata": {}
        }
      ]
    },
    {
      "cell_type": "code",
      "source": [
        "y_pred = cnn.predict(X_test)\n",
        "y_pred[:5]"
      ],
      "metadata": {
        "colab": {
          "base_uri": "https://localhost:8080/"
        },
        "id": "z_9etxzUOIar",
        "outputId": "310293f1-66f1-4d12-9b45-a36b3833a6c9"
      },
      "execution_count": 27,
      "outputs": [
        {
          "output_type": "stream",
          "name": "stdout",
          "text": [
            "313/313 [==============================] - 4s 12ms/step\n"
          ]
        },
        {
          "output_type": "execute_result",
          "data": {
            "text/plain": [
              "array([[1.6038258e-03, 5.7596641e-05, 9.4392832e-04, 5.2530187e-01,\n",
              "        4.8177382e-05, 5.8242656e-02, 1.2036372e-01, 4.1055275e-05,\n",
              "        2.9305872e-01, 3.3841355e-04],\n",
              "       [1.8828658e-03, 2.6526785e-01, 7.4670072e-07, 2.3408373e-07,\n",
              "        1.6794869e-08, 4.9028328e-09, 5.3666831e-09, 1.4320404e-09,\n",
              "        7.3277807e-01, 7.0218332e-05],\n",
              "       [1.2228437e-01, 8.6678021e-02, 8.0006348e-04, 1.5992078e-03,\n",
              "        6.6480209e-04, 2.5061352e-04, 4.4364773e-05, 7.8554191e-03,\n",
              "        7.6722747e-01, 1.2595621e-02],\n",
              "       [9.8020607e-01, 2.8573992e-03, 3.9344979e-03, 6.8097717e-05,\n",
              "        3.7152003e-04, 1.6372936e-05, 1.5070911e-04, 7.0266135e-05,\n",
              "        1.2300589e-02, 2.4627303e-05],\n",
              "       [2.6371403e-05, 2.6315491e-04, 1.3043828e-01, 6.5611163e-03,\n",
              "        1.7232744e-01, 7.6447381e-04, 6.8942058e-01, 1.0656599e-06,\n",
              "        1.8818460e-04, 9.2688224e-06]], dtype=float32)"
            ]
          },
          "metadata": {},
          "execution_count": 27
        }
      ]
    },
    {
      "cell_type": "code",
      "source": [
        "#argmax returning index of maximmum argument \n",
        "y_classes = [np.argmax(element)for element in y_pred]\n",
        "y_classes[:5]"
      ],
      "metadata": {
        "colab": {
          "base_uri": "https://localhost:8080/"
        },
        "id": "rGTUNwr8OQPr",
        "outputId": "b09555f8-929c-48d9-cf4c-e70d159f754b"
      },
      "execution_count": 28,
      "outputs": [
        {
          "output_type": "execute_result",
          "data": {
            "text/plain": [
              "[3, 8, 8, 0, 6]"
            ]
          },
          "metadata": {},
          "execution_count": 28
        }
      ]
    },
    {
      "cell_type": "code",
      "source": [
        "Y_test[:5]"
      ],
      "metadata": {
        "colab": {
          "base_uri": "https://localhost:8080/"
        },
        "id": "Dd9qxhRFOj6G",
        "outputId": "38cf6c72-f222-4dcd-9e97-5d78cfe2d919"
      },
      "execution_count": 31,
      "outputs": [
        {
          "output_type": "execute_result",
          "data": {
            "text/plain": [
              "array([3, 8, 8, 0, 6], dtype=uint8)"
            ]
          },
          "metadata": {},
          "execution_count": 31
        }
      ]
    },
    {
      "cell_type": "code",
      "source": [
        "plot_sample(X_test , Y_test ,1)"
      ],
      "metadata": {
        "colab": {
          "base_uri": "https://localhost:8080/",
          "height": 237
        },
        "id": "dxdryP5LOrJU",
        "outputId": "4d95b5c2-af7f-4a9a-ff8e-c119765140c0"
      },
      "execution_count": 32,
      "outputs": [
        {
          "output_type": "display_data",
          "data": {
            "text/plain": [
              "<Figure size 1500x200 with 1 Axes>"
            ],
            "image/png": "[encoded data removed]"
          },
          "metadata": {}
        }
      ]
    },
    {
      "cell_type": "code",
      "source": [
        "classes[y_classes[1]]"
      ],
      "metadata": {
        "colab": {
          "base_uri": "https://localhost:8080/",
          "height": 35
        },
        "id": "Y4Fethz8OyZJ",
        "outputId": "ef044208-6b8a-4332-b710-991401c3146b"
      },
      "execution_count": 34,
      "outputs": [
        {
          "output_type": "execute_result",
          "data": {
            "text/plain": [
              "'ship'"
            ],
            "application/vnd.google.colaboratory.intrinsic+json": {
              "type": "string"
            }
          },
          "metadata": {},
          "execution_count": 34
        }
      ]
    },
    {
      "cell_type": "code",
      "source": [
        "print(\"classification report : \\n\" , classification_report(Y_test , y_classes))"
      ],
      "metadata": {
        "colab": {
          "base_uri": "https://localhost:8080/"
        },
        "id": "Dd2JPbNsPHUH",
        "outputId": "d4516745-21a3-4587-b05b-4bcb5d8a6c71"
      },
      "execution_count": 36,
      "outputs": [
        {
          "output_type": "stream",
          "name": "stdout",
          "text": [
            "classification report : \n",
            "               precision    recall  f1-score   support\n",
            "\n",
            "           0       0.68      0.80      0.73      1000\n",
            "           1       0.80      0.85      0.82      1000\n",
            "           2       0.57      0.62      0.60      1000\n",
            "           3       0.57      0.44      0.50      1000\n",
            "           4       0.64      0.67      0.66      1000\n",
            "           5       0.67      0.55      0.61      1000\n",
            "           6       0.73      0.81      0.77      1000\n",
            "           7       0.75      0.74      0.74      1000\n",
            "           8       0.80      0.80      0.80      1000\n",
            "           9       0.81      0.76      0.78      1000\n",
            "\n",
            "    accuracy                           0.70     10000\n",
            "   macro avg       0.70      0.70      0.70     10000\n",
            "weighted avg       0.70      0.70      0.70     10000\n",
            "\n"
          ]
        }
      ]
    }
  ]
}